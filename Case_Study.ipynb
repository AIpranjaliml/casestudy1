{
  "nbformat": 4,
  "nbformat_minor": 0,
  "metadata": {
    "colab": {
      "name": "Case_Study.ipynb",
      "provenance": []
    },
    "kernelspec": {
      "name": "python3",
      "display_name": "Python 3"
    }
  },
  "cells": [
    {
      "cell_type": "code",
      "metadata": {
        "id": "jyW0-nJgmt5t",
        "colab_type": "code",
        "colab": {}
      },
      "source": [
        "import pandas as pd\n",
        "import numpy as np\n",
        "import matplotlib.pyplot as plt"
      ],
      "execution_count": 0,
      "outputs": []
    },
    {
      "cell_type": "code",
      "metadata": {
        "id": "tfVbx-LSmuzu",
        "colab_type": "code",
        "outputId": "b868eeb2-a379-4c26-fdbd-86098f508f3c",
        "colab": {
          "base_uri": "https://localhost:8080/",
          "height": 180
        }
      },
      "source": [
        "# Clone the entire repo.\n",
        "!git clone -l -s git://github.com/Sahilkumar098/Case-Study1.git Case_Study-1\n",
        "%cd Case_Study-1\n",
        "!ls"
      ],
      "execution_count": 0,
      "outputs": [
        {
          "output_type": "stream",
          "text": [
            "Cloning into 'Case_Study-1'...\n",
            "warning: --local is ignored\n",
            "remote: Enumerating objects: 11, done.\u001b[K\n",
            "remote: Counting objects: 100% (11/11), done.\u001b[K\n",
            "remote: Compressing objects: 100% (9/9), done.\u001b[K\n",
            "remote: Total 11 (delta 1), reused 0 (delta 0), pack-reused 0\u001b[K\n",
            "Receiving objects: 100% (11/11), 5.93 MiB | 8.61 MiB/s, done.\n",
            "Resolving deltas: 100% (1/1), done.\n",
            "/content/Case_Study-1\n",
            " companies.txt\t'mapping - mapping.csv'   README.md  'rounds2 - rounds2.csv'\n"
          ],
          "name": "stdout"
        }
      ]
    },
    {
      "cell_type": "code",
      "metadata": {
        "id": "i1Pyc9ltmuyR",
        "colab_type": "code",
        "colab": {}
      },
      "source": [
        "mapping=pd.read_csv('/content/Case_Study-1/mapping - mapping.csv',encoding=\"ISO-8859-1\",engine='python')\n",
        "rounds=pd.read_csv('/content/Case_Study-1/rounds2 - rounds2.csv',encoding=\"ISO-8859-1\",engine='python')\n",
        "company=pd.read_csv('/content/Case_Study-1/companies.txt',sep='\\t+',encoding=\"ISO-8859-1\",engine='python')        #\\t+ is a regex"
      ],
      "execution_count": 0,
      "outputs": []
    },
    {
      "cell_type": "code",
      "metadata": {
        "id": "1LLMVaNRvy9v",
        "colab_type": "code",
        "outputId": "04c71ba6-96b3-4a19-aee8-9c801d73842a",
        "colab": {
          "base_uri": "https://localhost:8080/",
          "height": 505
        }
      },
      "source": [
        "company"
      ],
      "execution_count": 0,
      "outputs": [
        {
          "output_type": "execute_result",
          "data": {
            "text/html": [
              "<div>\n",
              "<style scoped>\n",
              "    .dataframe tbody tr th:only-of-type {\n",
              "        vertical-align: middle;\n",
              "    }\n",
              "\n",
              "    .dataframe tbody tr th {\n",
              "        vertical-align: top;\n",
              "    }\n",
              "\n",
              "    .dataframe thead th {\n",
              "        text-align: right;\n",
              "    }\n",
              "</style>\n",
              "<table border=\"1\" class=\"dataframe\">\n",
              "  <thead>\n",
              "    <tr style=\"text-align: right;\">\n",
              "      <th></th>\n",
              "      <th>permalink</th>\n",
              "      <th>name</th>\n",
              "      <th>homepage_url</th>\n",
              "      <th>category_list</th>\n",
              "      <th>status</th>\n",
              "      <th>country_code</th>\n",
              "      <th>state_code</th>\n",
              "      <th>region</th>\n",
              "      <th>city</th>\n",
              "      <th>founded_at</th>\n",
              "    </tr>\n",
              "  </thead>\n",
              "  <tbody>\n",
              "    <tr>\n",
              "      <th>0</th>\n",
              "      <td>/Organization/-Fame</td>\n",
              "      <td>#fame</td>\n",
              "      <td>http://livfame.com</td>\n",
              "      <td>Media</td>\n",
              "      <td>operating</td>\n",
              "      <td>IND</td>\n",
              "      <td>16</td>\n",
              "      <td>Mumbai</td>\n",
              "      <td>Mumbai</td>\n",
              "      <td>None</td>\n",
              "    </tr>\n",
              "    <tr>\n",
              "      <th>1</th>\n",
              "      <td>/Organization/-Qounter</td>\n",
              "      <td>:Qounter</td>\n",
              "      <td>http://www.qounter.com</td>\n",
              "      <td>Application Platforms|Real Time|Social Network...</td>\n",
              "      <td>operating</td>\n",
              "      <td>USA</td>\n",
              "      <td>DE</td>\n",
              "      <td>DE - Other</td>\n",
              "      <td>Delaware City</td>\n",
              "      <td>04-09-2014</td>\n",
              "    </tr>\n",
              "    <tr>\n",
              "      <th>2</th>\n",
              "      <td>/Organization/-The-One-Of-Them-Inc-</td>\n",
              "      <td>\"(THE) ONE of THEM,Inc.\"</td>\n",
              "      <td>http://oneofthem.jp</td>\n",
              "      <td>Apps|Games|Mobile</td>\n",
              "      <td>operating</td>\n",
              "      <td>None</td>\n",
              "      <td>None</td>\n",
              "      <td>None</td>\n",
              "      <td>None</td>\n",
              "      <td>None</td>\n",
              "    </tr>\n",
              "    <tr>\n",
              "      <th>3</th>\n",
              "      <td>/Organization/0-6-Com</td>\n",
              "      <td>0-6.com</td>\n",
              "      <td>http://www.0-6.com</td>\n",
              "      <td>Curated Web</td>\n",
              "      <td>operating</td>\n",
              "      <td>CHN</td>\n",
              "      <td>22</td>\n",
              "      <td>Beijing</td>\n",
              "      <td>Beijing</td>\n",
              "      <td>01-01-2007</td>\n",
              "    </tr>\n",
              "    <tr>\n",
              "      <th>4</th>\n",
              "      <td>/Organization/004-Technologies</td>\n",
              "      <td>004 Technologies</td>\n",
              "      <td>http://004gmbh.de/en/004-interact</td>\n",
              "      <td>Software</td>\n",
              "      <td>operating</td>\n",
              "      <td>USA</td>\n",
              "      <td>IL</td>\n",
              "      <td>\"Springfield, Illinois\"</td>\n",
              "      <td>Champaign</td>\n",
              "      <td>01-01-2010</td>\n",
              "    </tr>\n",
              "    <tr>\n",
              "      <th>...</th>\n",
              "      <td>...</td>\n",
              "      <td>...</td>\n",
              "      <td>...</td>\n",
              "      <td>...</td>\n",
              "      <td>...</td>\n",
              "      <td>...</td>\n",
              "      <td>...</td>\n",
              "      <td>...</td>\n",
              "      <td>...</td>\n",
              "      <td>...</td>\n",
              "    </tr>\n",
              "    <tr>\n",
              "      <th>66363</th>\n",
              "      <td>/Organization/Zznode-Science-And-Technology-Co...</td>\n",
              "      <td>ZZNode Science and Technology</td>\n",
              "      <td>http://www.zznode.com</td>\n",
              "      <td>Enterprise Software</td>\n",
              "      <td>operating</td>\n",
              "      <td>CHN</td>\n",
              "      <td>22</td>\n",
              "      <td>Beijing</td>\n",
              "      <td>Beijing</td>\n",
              "      <td>None</td>\n",
              "    </tr>\n",
              "    <tr>\n",
              "      <th>66364</th>\n",
              "      <td>/Organization/Zzzzapp-Com</td>\n",
              "      <td>Zzzzapp Wireless ltd.</td>\n",
              "      <td>http://www.zzzzapp.com</td>\n",
              "      <td>Advertising|Mobile|Web Development|Wireless</td>\n",
              "      <td>operating</td>\n",
              "      <td>HRV</td>\n",
              "      <td>15</td>\n",
              "      <td>Split</td>\n",
              "      <td>Split</td>\n",
              "      <td>13-05-2012</td>\n",
              "    </tr>\n",
              "    <tr>\n",
              "      <th>66365</th>\n",
              "      <td>/Organization/ÃEron</td>\n",
              "      <td>ÃERON</td>\n",
              "      <td>http://www.aeron.hu/</td>\n",
              "      <td>operating</td>\n",
              "      <td>01-01-2011</td>\n",
              "      <td>None</td>\n",
              "      <td>None</td>\n",
              "      <td>None</td>\n",
              "      <td>None</td>\n",
              "      <td>None</td>\n",
              "    </tr>\n",
              "    <tr>\n",
              "      <th>66366</th>\n",
              "      <td>/Organization/ÃAsys-2</td>\n",
              "      <td>Ãasys</td>\n",
              "      <td>http://www.oasys.io/</td>\n",
              "      <td>Consumer Electronics|Internet of Things|Teleco...</td>\n",
              "      <td>operating</td>\n",
              "      <td>USA</td>\n",
              "      <td>CA</td>\n",
              "      <td>SF Bay Area</td>\n",
              "      <td>San Francisco</td>\n",
              "      <td>01-01-2014</td>\n",
              "    </tr>\n",
              "    <tr>\n",
              "      <th>66367</th>\n",
              "      <td>/Organization/Ä°Novatiff-Reklam-Ve-Tanä±Tä±M-H...</td>\n",
              "      <td>Ä°novatiff Reklam ve TanÄ±tÄ±m Hizmetleri Tic</td>\n",
              "      <td>http://inovatiff.com</td>\n",
              "      <td>Consumer Goods|E-Commerce|Internet</td>\n",
              "      <td>operating</td>\n",
              "      <td>None</td>\n",
              "      <td>None</td>\n",
              "      <td>None</td>\n",
              "      <td>None</td>\n",
              "      <td>None</td>\n",
              "    </tr>\n",
              "  </tbody>\n",
              "</table>\n",
              "<p>66368 rows × 10 columns</p>\n",
              "</div>"
            ],
            "text/plain": [
              "                                               permalink  ...  founded_at\n",
              "0                                    /Organization/-Fame  ...        None\n",
              "1                                 /Organization/-Qounter  ...  04-09-2014\n",
              "2                    /Organization/-The-One-Of-Them-Inc-  ...        None\n",
              "3                                  /Organization/0-6-Com  ...  01-01-2007\n",
              "4                         /Organization/004-Technologies  ...  01-01-2010\n",
              "...                                                  ...  ...         ...\n",
              "66363  /Organization/Zznode-Science-And-Technology-Co...  ...        None\n",
              "66364                          /Organization/Zzzzapp-Com  ...  13-05-2012\n",
              "66365                               /Organization/ÃEron  ...        None\n",
              "66366                             /Organization/ÃAsys-2  ...  01-01-2014\n",
              "66367  /Organization/Ä°Novatiff-Reklam-Ve-Tanä±Tä±M-H...  ...        None\n",
              "\n",
              "[66368 rows x 10 columns]"
            ]
          },
          "metadata": {
            "tags": []
          },
          "execution_count": 5
        }
      ]
    },
    {
      "cell_type": "markdown",
      "metadata": {
        "id": "uwyK1tY3gpe1",
        "colab_type": "text"
      },
      "source": [
        "# **CheckPoint 1:** _$Data$ $Cleaning_1$_"
      ]
    },
    {
      "cell_type": "code",
      "metadata": {
        "id": "DY8xPL9KfH5R",
        "colab_type": "code",
        "outputId": "b457a23f-1b33-4ad2-f4f7-1255a6103b96",
        "colab": {
          "base_uri": "https://localhost:8080/",
          "height": 33
        }
      },
      "source": [
        "print(company.shape, rounds.shape, mapping.shape)"
      ],
      "execution_count": 0,
      "outputs": [
        {
          "output_type": "stream",
          "text": [
            "(66368, 10) (114949, 6) (688, 10)\n"
          ],
          "name": "stdout"
        }
      ]
    },
    {
      "cell_type": "code",
      "metadata": {
        "id": "q6UEQ-6FYsV4",
        "colab_type": "code",
        "outputId": "93c37394-c077-41da-f2e1-66812802445d",
        "colab": {
          "base_uri": "https://localhost:8080/",
          "height": 391
        }
      },
      "source": [
        "rounds"
      ],
      "execution_count": 0,
      "outputs": [
        {
          "output_type": "execute_result",
          "data": {
            "text/html": [
              "<div>\n",
              "<style scoped>\n",
              "    .dataframe tbody tr th:only-of-type {\n",
              "        vertical-align: middle;\n",
              "    }\n",
              "\n",
              "    .dataframe tbody tr th {\n",
              "        vertical-align: top;\n",
              "    }\n",
              "\n",
              "    .dataframe thead th {\n",
              "        text-align: right;\n",
              "    }\n",
              "</style>\n",
              "<table border=\"1\" class=\"dataframe\">\n",
              "  <thead>\n",
              "    <tr style=\"text-align: right;\">\n",
              "      <th></th>\n",
              "      <th>company_permalink</th>\n",
              "      <th>funding_round_permalink</th>\n",
              "      <th>funding_round_type</th>\n",
              "      <th>funding_round_code</th>\n",
              "      <th>funded_at</th>\n",
              "      <th>raised_amount_usd</th>\n",
              "    </tr>\n",
              "  </thead>\n",
              "  <tbody>\n",
              "    <tr>\n",
              "      <th>0</th>\n",
              "      <td>/organization/-fame</td>\n",
              "      <td>/funding-round/9a01d05418af9f794eebff7ace91f638</td>\n",
              "      <td>venture</td>\n",
              "      <td>B</td>\n",
              "      <td>05-01-2015</td>\n",
              "      <td>10000000.0</td>\n",
              "    </tr>\n",
              "    <tr>\n",
              "      <th>1</th>\n",
              "      <td>/ORGANIZATION/-QOUNTER</td>\n",
              "      <td>/funding-round/22dacff496eb7acb2b901dec1dfe5633</td>\n",
              "      <td>venture</td>\n",
              "      <td>A</td>\n",
              "      <td>14-10-2014</td>\n",
              "      <td>NaN</td>\n",
              "    </tr>\n",
              "    <tr>\n",
              "      <th>2</th>\n",
              "      <td>/organization/-qounter</td>\n",
              "      <td>/funding-round/b44fbb94153f6cdef13083530bb48030</td>\n",
              "      <td>seed</td>\n",
              "      <td>NaN</td>\n",
              "      <td>01-03-2014</td>\n",
              "      <td>700000.0</td>\n",
              "    </tr>\n",
              "    <tr>\n",
              "      <th>3</th>\n",
              "      <td>/ORGANIZATION/-THE-ONE-OF-THEM-INC-</td>\n",
              "      <td>/funding-round/650b8f704416801069bb178a1418776b</td>\n",
              "      <td>venture</td>\n",
              "      <td>B</td>\n",
              "      <td>30-01-2014</td>\n",
              "      <td>3406878.0</td>\n",
              "    </tr>\n",
              "    <tr>\n",
              "      <th>4</th>\n",
              "      <td>/organization/0-6-com</td>\n",
              "      <td>/funding-round/5727accaeaa57461bd22a9bdd945382d</td>\n",
              "      <td>venture</td>\n",
              "      <td>A</td>\n",
              "      <td>19-03-2008</td>\n",
              "      <td>2000000.0</td>\n",
              "    </tr>\n",
              "    <tr>\n",
              "      <th>...</th>\n",
              "      <td>...</td>\n",
              "      <td>...</td>\n",
              "      <td>...</td>\n",
              "      <td>...</td>\n",
              "      <td>...</td>\n",
              "      <td>...</td>\n",
              "    </tr>\n",
              "    <tr>\n",
              "      <th>114944</th>\n",
              "      <td>/organization/zzzzapp-com</td>\n",
              "      <td>/funding-round/8f6d25b8ee4199e586484d817bceda05</td>\n",
              "      <td>convertible_note</td>\n",
              "      <td>NaN</td>\n",
              "      <td>01-03-2014</td>\n",
              "      <td>41313.0</td>\n",
              "    </tr>\n",
              "    <tr>\n",
              "      <th>114945</th>\n",
              "      <td>/ORGANIZATION/ZZZZAPP-COM</td>\n",
              "      <td>/funding-round/ff1aa06ed5da186c84f101549035d4ae</td>\n",
              "      <td>seed</td>\n",
              "      <td>NaN</td>\n",
              "      <td>01-05-2013</td>\n",
              "      <td>32842.0</td>\n",
              "    </tr>\n",
              "    <tr>\n",
              "      <th>114946</th>\n",
              "      <td>/organization/éeron</td>\n",
              "      <td>/funding-round/59f4dce44723b794f21ded3daed6e4fe</td>\n",
              "      <td>venture</td>\n",
              "      <td>A</td>\n",
              "      <td>01-08-2014</td>\n",
              "      <td>NaN</td>\n",
              "    </tr>\n",
              "    <tr>\n",
              "      <th>114947</th>\n",
              "      <td>/ORGANIZATION/è­ASYS-2</td>\n",
              "      <td>/funding-round/35f09d0794651719b02bbfd859ba9ff5</td>\n",
              "      <td>seed</td>\n",
              "      <td>NaN</td>\n",
              "      <td>01-01-2015</td>\n",
              "      <td>18192.0</td>\n",
              "    </tr>\n",
              "    <tr>\n",
              "      <th>114948</th>\n",
              "      <td>/organization/æµnovatiff-reklam-ve-tanæµtæµ...</td>\n",
              "      <td>/funding-round/af942869878d2cd788ef5189b435ebc4</td>\n",
              "      <td>grant</td>\n",
              "      <td>NaN</td>\n",
              "      <td>01-10-2013</td>\n",
              "      <td>14851.0</td>\n",
              "    </tr>\n",
              "  </tbody>\n",
              "</table>\n",
              "<p>114949 rows × 6 columns</p>\n",
              "</div>"
            ],
            "text/plain": [
              "                                        company_permalink  ... raised_amount_usd\n",
              "0                                     /organization/-fame  ...        10000000.0\n",
              "1                                  /ORGANIZATION/-QOUNTER  ...               NaN\n",
              "2                                  /organization/-qounter  ...          700000.0\n",
              "3                     /ORGANIZATION/-THE-ONE-OF-THEM-INC-  ...         3406878.0\n",
              "4                                   /organization/0-6-com  ...         2000000.0\n",
              "...                                                   ...  ...               ...\n",
              "114944                          /organization/zzzzapp-com  ...           41313.0\n",
              "114945                          /ORGANIZATION/ZZZZAPP-COM  ...           32842.0\n",
              "114946                              /organization/éeron  ...               NaN\n",
              "114947                            /ORGANIZATION/è­ASYS-2  ...           18192.0\n",
              "114948  /organization/æµnovatiff-reklam-ve-tanæµtæµ...  ...           14851.0\n",
              "\n",
              "[114949 rows x 6 columns]"
            ]
          },
          "metadata": {
            "tags": []
          },
          "execution_count": 7
        }
      ]
    },
    {
      "cell_type": "code",
      "metadata": {
        "id": "0dZqx56hbSMR",
        "colab_type": "code",
        "outputId": "ff0ecb29-b2b7-42ed-8e5e-a68b5239bcfd",
        "colab": {
          "base_uri": "https://localhost:8080/",
          "height": 33
        }
      },
      "source": [
        "len(rounds.company_permalink.unique())"
      ],
      "execution_count": 0,
      "outputs": [
        {
          "output_type": "execute_result",
          "data": {
            "text/plain": [
              "90247"
            ]
          },
          "metadata": {
            "tags": []
          },
          "execution_count": 8
        }
      ]
    },
    {
      "cell_type": "code",
      "metadata": {
        "id": "sOKNMSRCcvpH",
        "colab_type": "code",
        "outputId": "b814a9e4-9f23-4b88-bfd5-08ec9013ad09",
        "colab": {
          "base_uri": "https://localhost:8080/",
          "height": 33
        }
      },
      "source": [
        "len(rounds.company_permalink.str.lower().unique())"
      ],
      "execution_count": 0,
      "outputs": [
        {
          "output_type": "execute_result",
          "data": {
            "text/plain": [
              "66373"
            ]
          },
          "metadata": {
            "tags": []
          },
          "execution_count": 9
        }
      ]
    },
    {
      "cell_type": "code",
      "metadata": {
        "id": "jdngH-TFa3rh",
        "colab_type": "code",
        "outputId": "aad12310-e153-4aa4-b64e-53a07747c6df",
        "colab": {
          "base_uri": "https://localhost:8080/",
          "height": 33
        }
      },
      "source": [
        "len(company.permalink.str.lower().unique())"
      ],
      "execution_count": 0,
      "outputs": [
        {
          "output_type": "execute_result",
          "data": {
            "text/plain": [
              "66368"
            ]
          },
          "metadata": {
            "tags": []
          },
          "execution_count": 38
        }
      ]
    },
    {
      "cell_type": "code",
      "metadata": {
        "id": "O9C_V_THjBsq",
        "colab_type": "code",
        "outputId": "4430a3d9-4bc4-4ca5-ecc5-acd3cc94e9bc",
        "colab": {
          "base_uri": "https://localhost:8080/",
          "height": 33
        }
      },
      "source": [
        "len(company.name.str.lower().unique())"
      ],
      "execution_count": 0,
      "outputs": [
        {
          "output_type": "execute_result",
          "data": {
            "text/plain": [
              "66038"
            ]
          },
          "metadata": {
            "tags": []
          },
          "execution_count": 47
        }
      ]
    },
    {
      "cell_type": "code",
      "metadata": {
        "id": "1wV9fNv5moO-",
        "colab_type": "code",
        "outputId": "f7afde1d-aa4b-4c90-e583-b26e40b4d245",
        "colab": {
          "base_uri": "https://localhost:8080/",
          "height": 33
        }
      },
      "source": [
        "company.permalink = company.permalink.str.lower()\n",
        "len(company.permalink.unique())"
      ],
      "execution_count": 0,
      "outputs": [
        {
          "output_type": "execute_result",
          "data": {
            "text/plain": [
              "66368"
            ]
          },
          "metadata": {
            "tags": []
          },
          "execution_count": 50
        }
      ]
    },
    {
      "cell_type": "code",
      "metadata": {
        "id": "H5Y9bK_1LsP3",
        "colab_type": "code",
        "outputId": "46bcbc94-9321-481e-cdaf-d39b2f51880c",
        "colab": {
          "base_uri": "https://localhost:8080/",
          "height": 33
        }
      },
      "source": [
        "rounds['permalink']=rounds.company_permalink.str.lower()\n",
        "len(rounds.permalink.unique())"
      ],
      "execution_count": 0,
      "outputs": [
        {
          "output_type": "execute_result",
          "data": {
            "text/plain": [
              "66373"
            ]
          },
          "metadata": {
            "tags": []
          },
          "execution_count": 55
        }
      ]
    },
    {
      "cell_type": "code",
      "metadata": {
        "id": "a1VGTZjlO-Tz",
        "colab_type": "code",
        "outputId": "a833f4c9-c920-452f-a3e9-9f231a413376",
        "colab": {
          "base_uri": "https://localhost:8080/",
          "height": 33
        }
      },
      "source": [
        "rounds.shape"
      ],
      "execution_count": 0,
      "outputs": [
        {
          "output_type": "execute_result",
          "data": {
            "text/plain": [
              "(114949, 7)"
            ]
          },
          "metadata": {
            "tags": []
          },
          "execution_count": 57
        }
      ]
    },
    {
      "cell_type": "code",
      "metadata": {
        "id": "rd8MCelVMAbI",
        "colab_type": "code",
        "colab": {}
      },
      "source": [
        "leftout=rounds[~rounds.company_permalink.isin(company.permalink)]"
      ],
      "execution_count": 0,
      "outputs": []
    },
    {
      "cell_type": "code",
      "metadata": {
        "id": "_bnbiGnpPMq6",
        "colab_type": "code",
        "outputId": "dc5c6e88-4593-42ab-a527-6125d4066b80",
        "colab": {
          "base_uri": "https://localhost:8080/",
          "height": 33
        }
      },
      "source": [
        "len(leftout.company_permalink.unique())"
      ],
      "execution_count": 0,
      "outputs": [
        {
          "output_type": "execute_result",
          "data": {
            "text/plain": [
              "74"
            ]
          },
          "metadata": {
            "tags": []
          },
          "execution_count": 53
        }
      ]
    },
    {
      "cell_type": "code",
      "metadata": {
        "id": "pWL0YtCtPNjL",
        "colab_type": "code",
        "outputId": "49117ba2-a41d-435b-a593-400105b02ff0",
        "colab": {
          "base_uri": "https://localhost:8080/",
          "height": 671
        }
      },
      "source": [
        "master_frame=pd.merge(rounds,company,how='left',on='permalink')\n",
        "master_frame"
      ],
      "execution_count": 0,
      "outputs": [
        {
          "output_type": "execute_result",
          "data": {
            "text/html": [
              "<div>\n",
              "<style scoped>\n",
              "    .dataframe tbody tr th:only-of-type {\n",
              "        vertical-align: middle;\n",
              "    }\n",
              "\n",
              "    .dataframe tbody tr th {\n",
              "        vertical-align: top;\n",
              "    }\n",
              "\n",
              "    .dataframe thead th {\n",
              "        text-align: right;\n",
              "    }\n",
              "</style>\n",
              "<table border=\"1\" class=\"dataframe\">\n",
              "  <thead>\n",
              "    <tr style=\"text-align: right;\">\n",
              "      <th></th>\n",
              "      <th>company_permalink</th>\n",
              "      <th>funding_round_permalink</th>\n",
              "      <th>funding_round_type</th>\n",
              "      <th>funding_round_code</th>\n",
              "      <th>funded_at</th>\n",
              "      <th>raised_amount_usd</th>\n",
              "      <th>permalink</th>\n",
              "      <th>name</th>\n",
              "      <th>homepage_url</th>\n",
              "      <th>category_list</th>\n",
              "      <th>status</th>\n",
              "      <th>country_code</th>\n",
              "      <th>state_code</th>\n",
              "      <th>region</th>\n",
              "      <th>city</th>\n",
              "      <th>founded_at</th>\n",
              "    </tr>\n",
              "  </thead>\n",
              "  <tbody>\n",
              "    <tr>\n",
              "      <th>0</th>\n",
              "      <td>/organization/-fame</td>\n",
              "      <td>/funding-round/9a01d05418af9f794eebff7ace91f638</td>\n",
              "      <td>venture</td>\n",
              "      <td>B</td>\n",
              "      <td>05-01-2015</td>\n",
              "      <td>10000000.0</td>\n",
              "      <td>/organization/-fame</td>\n",
              "      <td>#fame</td>\n",
              "      <td>http://livfame.com</td>\n",
              "      <td>Media</td>\n",
              "      <td>operating</td>\n",
              "      <td>IND</td>\n",
              "      <td>16</td>\n",
              "      <td>Mumbai</td>\n",
              "      <td>Mumbai</td>\n",
              "      <td>None</td>\n",
              "    </tr>\n",
              "    <tr>\n",
              "      <th>1</th>\n",
              "      <td>/organization/-qounter</td>\n",
              "      <td>/funding-round/22dacff496eb7acb2b901dec1dfe5633</td>\n",
              "      <td>venture</td>\n",
              "      <td>A</td>\n",
              "      <td>14-10-2014</td>\n",
              "      <td>NaN</td>\n",
              "      <td>/organization/-qounter</td>\n",
              "      <td>:Qounter</td>\n",
              "      <td>http://www.qounter.com</td>\n",
              "      <td>Application Platforms|Real Time|Social Network...</td>\n",
              "      <td>operating</td>\n",
              "      <td>USA</td>\n",
              "      <td>DE</td>\n",
              "      <td>DE - Other</td>\n",
              "      <td>Delaware City</td>\n",
              "      <td>04-09-2014</td>\n",
              "    </tr>\n",
              "    <tr>\n",
              "      <th>2</th>\n",
              "      <td>/organization/-qounter</td>\n",
              "      <td>/funding-round/b44fbb94153f6cdef13083530bb48030</td>\n",
              "      <td>seed</td>\n",
              "      <td>NaN</td>\n",
              "      <td>01-03-2014</td>\n",
              "      <td>700000.0</td>\n",
              "      <td>/organization/-qounter</td>\n",
              "      <td>:Qounter</td>\n",
              "      <td>http://www.qounter.com</td>\n",
              "      <td>Application Platforms|Real Time|Social Network...</td>\n",
              "      <td>operating</td>\n",
              "      <td>USA</td>\n",
              "      <td>DE</td>\n",
              "      <td>DE - Other</td>\n",
              "      <td>Delaware City</td>\n",
              "      <td>04-09-2014</td>\n",
              "    </tr>\n",
              "    <tr>\n",
              "      <th>3</th>\n",
              "      <td>/organization/-the-one-of-them-inc-</td>\n",
              "      <td>/funding-round/650b8f704416801069bb178a1418776b</td>\n",
              "      <td>venture</td>\n",
              "      <td>B</td>\n",
              "      <td>30-01-2014</td>\n",
              "      <td>3406878.0</td>\n",
              "      <td>/organization/-the-one-of-them-inc-</td>\n",
              "      <td>\"(THE) ONE of THEM,Inc.\"</td>\n",
              "      <td>http://oneofthem.jp</td>\n",
              "      <td>Apps|Games|Mobile</td>\n",
              "      <td>operating</td>\n",
              "      <td>None</td>\n",
              "      <td>None</td>\n",
              "      <td>None</td>\n",
              "      <td>None</td>\n",
              "      <td>None</td>\n",
              "    </tr>\n",
              "    <tr>\n",
              "      <th>4</th>\n",
              "      <td>/organization/0-6-com</td>\n",
              "      <td>/funding-round/5727accaeaa57461bd22a9bdd945382d</td>\n",
              "      <td>venture</td>\n",
              "      <td>A</td>\n",
              "      <td>19-03-2008</td>\n",
              "      <td>2000000.0</td>\n",
              "      <td>/organization/0-6-com</td>\n",
              "      <td>0-6.com</td>\n",
              "      <td>http://www.0-6.com</td>\n",
              "      <td>Curated Web</td>\n",
              "      <td>operating</td>\n",
              "      <td>CHN</td>\n",
              "      <td>22</td>\n",
              "      <td>Beijing</td>\n",
              "      <td>Beijing</td>\n",
              "      <td>01-01-2007</td>\n",
              "    </tr>\n",
              "    <tr>\n",
              "      <th>...</th>\n",
              "      <td>...</td>\n",
              "      <td>...</td>\n",
              "      <td>...</td>\n",
              "      <td>...</td>\n",
              "      <td>...</td>\n",
              "      <td>...</td>\n",
              "      <td>...</td>\n",
              "      <td>...</td>\n",
              "      <td>...</td>\n",
              "      <td>...</td>\n",
              "      <td>...</td>\n",
              "      <td>...</td>\n",
              "      <td>...</td>\n",
              "      <td>...</td>\n",
              "      <td>...</td>\n",
              "      <td>...</td>\n",
              "    </tr>\n",
              "    <tr>\n",
              "      <th>114944</th>\n",
              "      <td>/organization/zzzzapp-com</td>\n",
              "      <td>/funding-round/8f6d25b8ee4199e586484d817bceda05</td>\n",
              "      <td>convertible_note</td>\n",
              "      <td>NaN</td>\n",
              "      <td>01-03-2014</td>\n",
              "      <td>41313.0</td>\n",
              "      <td>/organization/zzzzapp-com</td>\n",
              "      <td>Zzzzapp Wireless ltd.</td>\n",
              "      <td>http://www.zzzzapp.com</td>\n",
              "      <td>Advertising|Mobile|Web Development|Wireless</td>\n",
              "      <td>operating</td>\n",
              "      <td>HRV</td>\n",
              "      <td>15</td>\n",
              "      <td>Split</td>\n",
              "      <td>Split</td>\n",
              "      <td>13-05-2012</td>\n",
              "    </tr>\n",
              "    <tr>\n",
              "      <th>114945</th>\n",
              "      <td>/organization/zzzzapp-com</td>\n",
              "      <td>/funding-round/ff1aa06ed5da186c84f101549035d4ae</td>\n",
              "      <td>seed</td>\n",
              "      <td>NaN</td>\n",
              "      <td>01-05-2013</td>\n",
              "      <td>32842.0</td>\n",
              "      <td>/organization/zzzzapp-com</td>\n",
              "      <td>Zzzzapp Wireless ltd.</td>\n",
              "      <td>http://www.zzzzapp.com</td>\n",
              "      <td>Advertising|Mobile|Web Development|Wireless</td>\n",
              "      <td>operating</td>\n",
              "      <td>HRV</td>\n",
              "      <td>15</td>\n",
              "      <td>Split</td>\n",
              "      <td>Split</td>\n",
              "      <td>13-05-2012</td>\n",
              "    </tr>\n",
              "    <tr>\n",
              "      <th>114946</th>\n",
              "      <td>/organization/éeron</td>\n",
              "      <td>/funding-round/59f4dce44723b794f21ded3daed6e4fe</td>\n",
              "      <td>venture</td>\n",
              "      <td>A</td>\n",
              "      <td>01-08-2014</td>\n",
              "      <td>NaN</td>\n",
              "      <td>/organization/éeron</td>\n",
              "      <td>NaN</td>\n",
              "      <td>NaN</td>\n",
              "      <td>NaN</td>\n",
              "      <td>NaN</td>\n",
              "      <td>NaN</td>\n",
              "      <td>NaN</td>\n",
              "      <td>NaN</td>\n",
              "      <td>NaN</td>\n",
              "      <td>NaN</td>\n",
              "    </tr>\n",
              "    <tr>\n",
              "      <th>114947</th>\n",
              "      <td>/organization/è­asys-2</td>\n",
              "      <td>/funding-round/35f09d0794651719b02bbfd859ba9ff5</td>\n",
              "      <td>seed</td>\n",
              "      <td>NaN</td>\n",
              "      <td>01-01-2015</td>\n",
              "      <td>18192.0</td>\n",
              "      <td>/organization/è­asys-2</td>\n",
              "      <td>NaN</td>\n",
              "      <td>NaN</td>\n",
              "      <td>NaN</td>\n",
              "      <td>NaN</td>\n",
              "      <td>NaN</td>\n",
              "      <td>NaN</td>\n",
              "      <td>NaN</td>\n",
              "      <td>NaN</td>\n",
              "      <td>NaN</td>\n",
              "    </tr>\n",
              "    <tr>\n",
              "      <th>114948</th>\n",
              "      <td>/organization/æµnovatiff-reklam-ve-tanæµtæµ...</td>\n",
              "      <td>/funding-round/af942869878d2cd788ef5189b435ebc4</td>\n",
              "      <td>grant</td>\n",
              "      <td>NaN</td>\n",
              "      <td>01-10-2013</td>\n",
              "      <td>14851.0</td>\n",
              "      <td>/organization/æµnovatiff-reklam-ve-tanæµtæµ...</td>\n",
              "      <td>NaN</td>\n",
              "      <td>NaN</td>\n",
              "      <td>NaN</td>\n",
              "      <td>NaN</td>\n",
              "      <td>NaN</td>\n",
              "      <td>NaN</td>\n",
              "      <td>NaN</td>\n",
              "      <td>NaN</td>\n",
              "      <td>NaN</td>\n",
              "    </tr>\n",
              "  </tbody>\n",
              "</table>\n",
              "<p>114949 rows × 16 columns</p>\n",
              "</div>"
            ],
            "text/plain": [
              "                                        company_permalink  ...  founded_at\n",
              "0                                     /organization/-fame  ...        None\n",
              "1                                  /organization/-qounter  ...  04-09-2014\n",
              "2                                  /organization/-qounter  ...  04-09-2014\n",
              "3                     /organization/-the-one-of-them-inc-  ...        None\n",
              "4                                   /organization/0-6-com  ...  01-01-2007\n",
              "...                                                   ...  ...         ...\n",
              "114944                          /organization/zzzzapp-com  ...  13-05-2012\n",
              "114945                          /organization/zzzzapp-com  ...  13-05-2012\n",
              "114946                              /organization/éeron  ...         NaN\n",
              "114947                            /organization/è­asys-2  ...         NaN\n",
              "114948  /organization/æµnovatiff-reklam-ve-tanæµtæµ...  ...         NaN\n",
              "\n",
              "[114949 rows x 16 columns]"
            ]
          },
          "metadata": {
            "tags": []
          },
          "execution_count": 61
        }
      ]
    },
    {
      "cell_type": "markdown",
      "metadata": {
        "id": "Fi9tyU_LiSeu",
        "colab_type": "text"
      },
      "source": [
        "# **CheckPoint 2:** _$Funding $    $ Type $ $ Analysis $_"
      ]
    },
    {
      "cell_type": "code",
      "metadata": {
        "id": "FwF26IHyioil",
        "colab_type": "code",
        "colab": {}
      },
      "source": [
        ""
      ],
      "execution_count": 0,
      "outputs": []
    },
    {
      "cell_type": "markdown",
      "metadata": {
        "id": "KZ8rJwwCipTM",
        "colab_type": "text"
      },
      "source": [
        "# **CheckPoint 3:** _$Country$      $Analysis$_"
      ]
    },
    {
      "cell_type": "code",
      "metadata": {
        "id": "j4nbPSZji_VF",
        "colab_type": "code",
        "outputId": "139e0a65-3a14-47ae-b920-6c96890226bd",
        "colab": {
          "base_uri": "https://localhost:8080/",
          "height": 423
        }
      },
      "source": [
        "mapping"
      ],
      "execution_count": 0,
      "outputs": [
        {
          "output_type": "execute_result",
          "data": {
            "text/html": [
              "<div>\n",
              "<style scoped>\n",
              "    .dataframe tbody tr th:only-of-type {\n",
              "        vertical-align: middle;\n",
              "    }\n",
              "\n",
              "    .dataframe tbody tr th {\n",
              "        vertical-align: top;\n",
              "    }\n",
              "\n",
              "    .dataframe thead th {\n",
              "        text-align: right;\n",
              "    }\n",
              "</style>\n",
              "<table border=\"1\" class=\"dataframe\">\n",
              "  <thead>\n",
              "    <tr style=\"text-align: right;\">\n",
              "      <th></th>\n",
              "      <th>category_list</th>\n",
              "      <th>Automotive &amp; Sports</th>\n",
              "      <th>Blanks</th>\n",
              "      <th>Cleantech / Semiconductors</th>\n",
              "      <th>Entertainment</th>\n",
              "      <th>Health</th>\n",
              "      <th>Manufacturing</th>\n",
              "      <th>News, Search and Messaging</th>\n",
              "      <th>Others</th>\n",
              "      <th>Social, Finance, Analytics, Advertising</th>\n",
              "    </tr>\n",
              "  </thead>\n",
              "  <tbody>\n",
              "    <tr>\n",
              "      <th>0</th>\n",
              "      <td>NaN</td>\n",
              "      <td>0</td>\n",
              "      <td>1</td>\n",
              "      <td>0</td>\n",
              "      <td>0</td>\n",
              "      <td>0</td>\n",
              "      <td>0</td>\n",
              "      <td>0</td>\n",
              "      <td>0</td>\n",
              "      <td>0</td>\n",
              "    </tr>\n",
              "    <tr>\n",
              "      <th>1</th>\n",
              "      <td>3D</td>\n",
              "      <td>0</td>\n",
              "      <td>0</td>\n",
              "      <td>0</td>\n",
              "      <td>0</td>\n",
              "      <td>0</td>\n",
              "      <td>1</td>\n",
              "      <td>0</td>\n",
              "      <td>0</td>\n",
              "      <td>0</td>\n",
              "    </tr>\n",
              "    <tr>\n",
              "      <th>2</th>\n",
              "      <td>3D Printing</td>\n",
              "      <td>0</td>\n",
              "      <td>0</td>\n",
              "      <td>0</td>\n",
              "      <td>0</td>\n",
              "      <td>0</td>\n",
              "      <td>1</td>\n",
              "      <td>0</td>\n",
              "      <td>0</td>\n",
              "      <td>0</td>\n",
              "    </tr>\n",
              "    <tr>\n",
              "      <th>3</th>\n",
              "      <td>3D Technology</td>\n",
              "      <td>0</td>\n",
              "      <td>0</td>\n",
              "      <td>0</td>\n",
              "      <td>0</td>\n",
              "      <td>0</td>\n",
              "      <td>1</td>\n",
              "      <td>0</td>\n",
              "      <td>0</td>\n",
              "      <td>0</td>\n",
              "    </tr>\n",
              "    <tr>\n",
              "      <th>4</th>\n",
              "      <td>Accounting</td>\n",
              "      <td>0</td>\n",
              "      <td>0</td>\n",
              "      <td>0</td>\n",
              "      <td>0</td>\n",
              "      <td>0</td>\n",
              "      <td>0</td>\n",
              "      <td>0</td>\n",
              "      <td>0</td>\n",
              "      <td>1</td>\n",
              "    </tr>\n",
              "    <tr>\n",
              "      <th>...</th>\n",
              "      <td>...</td>\n",
              "      <td>...</td>\n",
              "      <td>...</td>\n",
              "      <td>...</td>\n",
              "      <td>...</td>\n",
              "      <td>...</td>\n",
              "      <td>...</td>\n",
              "      <td>...</td>\n",
              "      <td>...</td>\n",
              "      <td>...</td>\n",
              "    </tr>\n",
              "    <tr>\n",
              "      <th>683</th>\n",
              "      <td>Wholesale</td>\n",
              "      <td>0</td>\n",
              "      <td>0</td>\n",
              "      <td>0</td>\n",
              "      <td>0</td>\n",
              "      <td>0</td>\n",
              "      <td>0</td>\n",
              "      <td>0</td>\n",
              "      <td>1</td>\n",
              "      <td>0</td>\n",
              "    </tr>\n",
              "    <tr>\n",
              "      <th>684</th>\n",
              "      <td>Wine And Spirits</td>\n",
              "      <td>0</td>\n",
              "      <td>0</td>\n",
              "      <td>0</td>\n",
              "      <td>1</td>\n",
              "      <td>0</td>\n",
              "      <td>0</td>\n",
              "      <td>0</td>\n",
              "      <td>0</td>\n",
              "      <td>0</td>\n",
              "    </tr>\n",
              "    <tr>\n",
              "      <th>685</th>\n",
              "      <td>Wireless</td>\n",
              "      <td>0</td>\n",
              "      <td>0</td>\n",
              "      <td>0</td>\n",
              "      <td>1</td>\n",
              "      <td>0</td>\n",
              "      <td>0</td>\n",
              "      <td>0</td>\n",
              "      <td>0</td>\n",
              "      <td>0</td>\n",
              "    </tr>\n",
              "    <tr>\n",
              "      <th>686</th>\n",
              "      <td>Women</td>\n",
              "      <td>0</td>\n",
              "      <td>0</td>\n",
              "      <td>0</td>\n",
              "      <td>0</td>\n",
              "      <td>0</td>\n",
              "      <td>0</td>\n",
              "      <td>0</td>\n",
              "      <td>1</td>\n",
              "      <td>0</td>\n",
              "    </tr>\n",
              "    <tr>\n",
              "      <th>687</th>\n",
              "      <td>Young Adults</td>\n",
              "      <td>0</td>\n",
              "      <td>0</td>\n",
              "      <td>0</td>\n",
              "      <td>0</td>\n",
              "      <td>0</td>\n",
              "      <td>0</td>\n",
              "      <td>0</td>\n",
              "      <td>1</td>\n",
              "      <td>0</td>\n",
              "    </tr>\n",
              "  </tbody>\n",
              "</table>\n",
              "<p>688 rows × 10 columns</p>\n",
              "</div>"
            ],
            "text/plain": [
              "        category_list  ...  Social, Finance, Analytics, Advertising\n",
              "0                 NaN  ...                                        0\n",
              "1                  3D  ...                                        0\n",
              "2         3D Printing  ...                                        0\n",
              "3       3D Technology  ...                                        0\n",
              "4          Accounting  ...                                        1\n",
              "..                ...  ...                                      ...\n",
              "683         Wholesale  ...                                        0\n",
              "684  Wine And Spirits  ...                                        0\n",
              "685          Wireless  ...                                        0\n",
              "686             Women  ...                                        0\n",
              "687      Young Adults  ...                                        0\n",
              "\n",
              "[688 rows x 10 columns]"
            ]
          },
          "metadata": {
            "tags": []
          },
          "execution_count": 63
        }
      ]
    },
    {
      "cell_type": "markdown",
      "metadata": {
        "id": "UNmAKKZAi_-o",
        "colab_type": "text"
      },
      "source": [
        "# **CheckPoint 4:** _$Sector$ $Analysis_1$_"
      ]
    },
    {
      "cell_type": "code",
      "metadata": {
        "id": "HylP4fmfjZIC",
        "colab_type": "code",
        "colab": {}
      },
      "source": [
        ""
      ],
      "execution_count": 0,
      "outputs": []
    },
    {
      "cell_type": "markdown",
      "metadata": {
        "id": "88rrhHItjaM6",
        "colab_type": "text"
      },
      "source": [
        "#**CheckPoint 5:** _$Sector$ $Analysis_2$_"
      ]
    },
    {
      "cell_type": "code",
      "metadata": {
        "id": "2ZgJLAhujla6",
        "colab_type": "code",
        "colab": {}
      },
      "source": [
        ""
      ],
      "execution_count": 0,
      "outputs": []
    },
    {
      "cell_type": "markdown",
      "metadata": {
        "id": "ovHNkZoKjrUf",
        "colab_type": "text"
      },
      "source": [
        "# **CheckPoint 6:**  _$ Plots $_"
      ]
    },
    {
      "cell_type": "code",
      "metadata": {
        "id": "BdL1YkIbj2bS",
        "colab_type": "code",
        "colab": {}
      },
      "source": [
        ""
      ],
      "execution_count": 0,
      "outputs": []
    },
    {
      "cell_type": "markdown",
      "metadata": {
        "id": "nGANgIW5j3am",
        "colab_type": "text"
      },
      "source": [
        ""
      ]
    }
  ]
}